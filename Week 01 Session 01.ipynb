{
 "cells": [
  {
   "cell_type": "code",
   "execution_count": 1,
   "id": "def45f1f-9f2e-491d-b108-a3731cee40aa",
   "metadata": {},
   "outputs": [
    {
     "name": "stdout",
     "output_type": "stream",
     "text": [
      "Hello World\n"
     ]
    }
   ],
   "source": [
    "print(\"Hello World\")"
   ]
  },
  {
   "cell_type": "markdown",
   "id": "268ec79c",
   "metadata": {},
   "source": [
    "# 1. Python Syntax Rules: Indentation, Comments, Line Continuation"
   ]
  },
  {
   "cell_type": "markdown",
   "id": "42f30ae9",
   "metadata": {},
   "source": [
    "**Indentation**"
   ]
  },
  {
   "cell_type": "code",
   "execution_count": 2,
   "id": "bb00dfcb",
   "metadata": {},
   "outputs": [
    {
     "name": "stdout",
     "output_type": "stream",
     "text": [
      "Condition is True\n",
      "This is inside the if block\n"
     ]
    }
   ],
   "source": [
    "# Correct indentation\n",
    "if True:\n",
    "    print(\"Condition is True\")\n",
    "    print(\"This is inside the if block\")\n"
   ]
  },
  {
   "cell_type": "code",
   "execution_count": 3,
   "id": "44dd22f0",
   "metadata": {},
   "outputs": [
    {
     "ename": "IndentationError",
     "evalue": "expected an indented block after 'if' statement on line 2 (770987336.py, line 3)",
     "output_type": "error",
     "traceback": [
      "  \u001b[36mCell\u001b[39m\u001b[36m \u001b[39m\u001b[32mIn[3]\u001b[39m\u001b[32m, line 3\u001b[39m\n\u001b[31m    \u001b[39m\u001b[31mprint(\"Condition is wrong\")\u001b[39m\n    ^\n\u001b[31mIndentationError\u001b[39m\u001b[31m:\u001b[39m expected an indented block after 'if' statement on line 2\n"
     ]
    }
   ],
   "source": [
    "# Incorrect indentation\n",
    "if True:\n",
    "print(\"Condition is wrong\")"
   ]
  },
  {
   "cell_type": "markdown",
   "id": "086d76d9",
   "metadata": {},
   "source": [
    "**Comments**"
   ]
  },
  {
   "cell_type": "code",
   "execution_count": null,
   "id": "19b209a4",
   "metadata": {},
   "outputs": [
    {
     "name": "stdout",
     "output_type": "stream",
     "text": [
      "Hello, my dear learners\n"
     ]
    }
   ],
   "source": [
    "# This is a single-line comment\n",
    "print(\"Hello, my dear learners\") \n"
   ]
  },
  {
   "cell_type": "code",
   "execution_count": null,
   "id": "6b6526a9",
   "metadata": {},
   "outputs": [
    {
     "name": "stdout",
     "output_type": "stream",
     "text": [
      "Testing multiline comments\n"
     ]
    }
   ],
   "source": [
    "\"\"\"\n",
    "This is a multi-line comment.\n",
    "It can span multiple lines.\n",
    "\"\"\"\n",
    "print(\"Testing multiline comments\")\n"
   ]
  },
  {
   "cell_type": "markdown",
   "id": "66116795",
   "metadata": {},
   "source": [
    "**Line Continuation**"
   ]
  },
  {
   "cell_type": "code",
   "execution_count": null,
   "id": "fb6e54cc",
   "metadata": {},
   "outputs": [
    {
     "name": "stdout",
     "output_type": "stream",
     "text": [
      "Numbers = [1, 2, 3, 4, 5, 6]\n",
      "Sum of numbers = 15\n"
     ]
    }
   ],
   "source": [
    "# Implicit line continuation\n",
    "numbers = [1, 2, 3,\n",
    "           4, 5, 6]\n",
    "\n",
    "total = (1 + 2 + 3 +\n",
    "         4 + 5)\n",
    "print(\"Numbers =\", numbers)\n",
    "print(\"Sum of numbers =\", total)"
   ]
  },
  {
   "cell_type": "code",
   "execution_count": null,
   "id": "1ad362f0",
   "metadata": {},
   "outputs": [
    {
     "name": "stdout",
     "output_type": "stream",
     "text": [
      "This is a long message that needs to be split across two lines for readability\n"
     ]
    }
   ],
   "source": [
    "# Explicit line continuation\n",
    "message = \"This is a long message that needs to be split \" \\\n",
    "          \"across two lines for readability\"\n",
    "\n",
    "print(message)"
   ]
  },
  {
   "cell_type": "markdown",
   "id": "7f979ae9",
   "metadata": {},
   "source": [
    "# 2. Declaring Variables & Dynamic Typing "
   ]
  },
  {
   "cell_type": "code",
   "execution_count": null,
   "id": "5b46129f",
   "metadata": {},
   "outputs": [
    {
     "name": "stdout",
     "output_type": "stream",
     "text": [
      "Name: Mr. India \n",
      "Age: 100 \n",
      "Salary: 9898.7\n"
     ]
    }
   ],
   "source": [
    "age = 100               # Creates an integer variable\n",
    "salary = 9898.70        # Creates a floating point variable\n",
    "name = \"Mr. India\"      # Creates a string variable\n",
    "\n",
    "print(\"Name:\",name, \"\\nAge:\", age, \"\\nSalary:\",salary)"
   ]
  },
  {
   "cell_type": "markdown",
   "id": "c673363d",
   "metadata": {},
   "source": [
    "**Variable Naming Rules**"
   ]
  },
  {
   "cell_type": "code",
   "execution_count": null,
   "id": "450de9e5",
   "metadata": {},
   "outputs": [
    {
     "name": "stdout",
     "output_type": "stream",
     "text": [
      "100\n",
      "100\n",
      "Byomkesh\n",
      "Feluda\n",
      "20\n",
      "100000\n"
     ]
    }
   ],
   "source": [
    "# Valid variable names\n",
    "\n",
    "counter = 100\n",
    "_count = 100\n",
    "name1 = \"Byomkesh\"\n",
    "name2 = \"Feluda\"\n",
    "Age = 20\n",
    "emp_salary = 100000\n",
    "\n",
    "print(counter)\n",
    "print(_count)\n",
    "print(name1)\n",
    "print(name2)\n",
    "print(Age)\n",
    "print(emp_salary)"
   ]
  },
  {
   "cell_type": "code",
   "execution_count": null,
   "id": "867933e9",
   "metadata": {},
   "outputs": [
    {
     "ename": "SyntaxError",
     "evalue": "invalid decimal literal (2117202441.py, line 3)",
     "output_type": "error",
     "traceback": [
      "  \u001b[36mCell\u001b[39m\u001b[36m \u001b[39m\u001b[32mIn[25]\u001b[39m\u001b[32m, line 3\u001b[39m\n\u001b[31m    \u001b[39m\u001b[31m1counter = 100\u001b[39m\n    ^\n\u001b[31mSyntaxError\u001b[39m\u001b[31m:\u001b[39m invalid decimal literal\n"
     ]
    }
   ],
   "source": [
    "# Invalid Variable Names\n",
    "\n",
    "1counter = 100\n",
    "$_count  = 100\n",
    "zara-salary = 100000\n",
    "\n",
    "print (1counter)\n",
    "print ($count)\n",
    "print (zara-salary)"
   ]
  },
  {
   "cell_type": "code",
   "execution_count": null,
   "id": "68a0bbc1",
   "metadata": {},
   "outputs": [
    {
     "name": "stdout",
     "output_type": "stream",
     "text": [
      "Byomkesh\n",
      "Byomkesh\n"
     ]
    }
   ],
   "source": [
    "# Reassign Variable\n",
    "\n",
    "print(name1)\n",
    "name3 = name1\n",
    "print(name3)"
   ]
  },
  {
   "cell_type": "markdown",
   "id": "7080a1d1",
   "metadata": {},
   "source": [
    "**Declaring Multiple Variables in One Line**"
   ]
  },
  {
   "cell_type": "code",
   "execution_count": null,
   "id": "3f2e83ea",
   "metadata": {},
   "outputs": [
    {
     "name": "stdout",
     "output_type": "stream",
     "text": [
      "1 2 3\n"
     ]
    }
   ],
   "source": [
    "# multiple assignments in a single line \n",
    "a, b, c = 1, 2, 3   \n",
    "print(a, b, c)  "
   ]
  },
  {
   "cell_type": "code",
   "execution_count": null,
   "id": "78d25e58",
   "metadata": {},
   "outputs": [
    {
     "name": "stdout",
     "output_type": "stream",
     "text": [
      "100 100 100\n"
     ]
    }
   ],
   "source": [
    "# Assigning the Same Value to Multiple Variables\n",
    "x = y = z = 100\n",
    "print(x, y, z)   "
   ]
  },
  {
   "cell_type": "markdown",
   "id": "6c2b1c78",
   "metadata": {},
   "source": [
    "**Common Pitfall**"
   ]
  },
  {
   "cell_type": "code",
   "execution_count": 7,
   "id": "40261351",
   "metadata": {},
   "outputs": [
    {
     "ename": "ValueError",
     "evalue": "too many values to unpack (expected 2)",
     "output_type": "error",
     "traceback": [
      "\u001b[31m---------------------------------------------------------------------------\u001b[39m",
      "\u001b[31mValueError\u001b[39m                                Traceback (most recent call last)",
      "\u001b[36mCell\u001b[39m\u001b[36m \u001b[39m\u001b[32mIn[7]\u001b[39m\u001b[32m, line 1\u001b[39m\n\u001b[32m----> \u001b[39m\u001b[32m1\u001b[39m x, y = \u001b[32m1\u001b[39m, \u001b[32m2\u001b[39m, \u001b[32m3\u001b[39m   \u001b[38;5;66;03m# Too many values to unpack\u001b[39;00m\n",
      "\u001b[31mValueError\u001b[39m: too many values to unpack (expected 2)"
     ]
    }
   ],
   "source": [
    "x, y = 1, 2, 3   # Too many values to unpack"
   ]
  },
  {
   "cell_type": "code",
   "execution_count": 8,
   "id": "5afa018f",
   "metadata": {},
   "outputs": [
    {
     "ename": "TypeError",
     "evalue": "cannot unpack non-iterable int object",
     "output_type": "error",
     "traceback": [
      "\u001b[31m---------------------------------------------------------------------------\u001b[39m",
      "\u001b[31mTypeError\u001b[39m                                 Traceback (most recent call last)",
      "\u001b[36mCell\u001b[39m\u001b[36m \u001b[39m\u001b[32mIn[8]\u001b[39m\u001b[32m, line 1\u001b[39m\n\u001b[32m----> \u001b[39m\u001b[32m1\u001b[39m x, y = \u001b[32m100\u001b[39m       \u001b[38;5;66;03m# Not iterable\u001b[39;00m\n",
      "\u001b[31mTypeError\u001b[39m: cannot unpack non-iterable int object"
     ]
    }
   ],
   "source": [
    "x, y = 100       # Not iterable"
   ]
  },
  {
   "cell_type": "markdown",
   "id": "eb0b21c7",
   "metadata": {},
   "source": [
    "**Dynamic Typing**"
   ]
  },
  {
   "cell_type": "code",
   "execution_count": null,
   "id": "874522de",
   "metadata": {},
   "outputs": [
    {
     "name": "stdout",
     "output_type": "stream",
     "text": [
      "<class 'int'> 105478871805128\n",
      "<class 'str'> 133057171492560\n",
      "<class 'bool'> 105478870766496\n"
     ]
    }
   ],
   "source": [
    "# Datatype of a variable can be checked using type() function.\n",
    "\n",
    "x = 42        # int\n",
    "print(type(x), id(x))\n",
    "\n",
    "x = \"Answer\"  # str\n",
    "print(type(x), id(x))\n",
    "\n",
    "x = True     # bool\n",
    "print(type(x), id(x))  "
   ]
  },
  {
   "cell_type": "markdown",
   "id": "4eba6ee4",
   "metadata": {},
   "source": [
    "**Memory Model: Variables as References**"
   ]
  },
  {
   "cell_type": "code",
   "execution_count": null,
   "id": "10fe8117",
   "metadata": {},
   "outputs": [
    {
     "name": "stdout",
     "output_type": "stream",
     "text": [
      "[1, 2, 3, 12, 4]\n",
      "133057158732416\n",
      "133057158732416\n"
     ]
    }
   ],
   "source": [
    "a = [1, 2, 3, 12]   # creating a list\n",
    "b = a\n",
    "b.append(4)     # Adding new value at the end of the existing list\n",
    "print(a)  \n",
    "\n",
    "# Checking the object id\n",
    "print(id(a))\n",
    "print(id(b))"
   ]
  },
  {
   "cell_type": "markdown",
   "id": "bddb2578",
   "metadata": {},
   "source": [
    "# 3. Primitive Data Types: int, float, str, bool"
   ]
  },
  {
   "cell_type": "code",
   "execution_count": 4,
   "id": "e6f375ec",
   "metadata": {},
   "outputs": [],
   "source": [
    "x = 10         # int\n",
    "y = 3.14       # float\n",
    "name = \"IIT\"   # str\n",
    "status = True  # bool"
   ]
  },
  {
   "cell_type": "code",
   "execution_count": 1,
   "id": "7763cea6",
   "metadata": {},
   "outputs": [
    {
     "name": "stdout",
     "output_type": "stream",
     "text": [
      "42 -19 0\n"
     ]
    }
   ],
   "source": [
    "# Interger type\n",
    "\n",
    "a = 42\n",
    "b = -19\n",
    "c = 0\n",
    "\n",
    "print(a, b, c)"
   ]
  },
  {
   "cell_type": "code",
   "execution_count": 4,
   "id": "c9c6def1",
   "metadata": {},
   "outputs": [
    {
     "name": "stdout",
     "output_type": "stream",
     "text": [
      "value = 9999999999999999999999999999\n"
     ]
    }
   ],
   "source": [
    "# Python allows arbitrary large integer\n",
    "big = 9999999999999999999999999999\n",
    "print(\"value =\", big)"
   ]
  },
  {
   "cell_type": "code",
   "execution_count": 7,
   "id": "0ec71d36",
   "metadata": {},
   "outputs": [
    {
     "name": "stdout",
     "output_type": "stream",
     "text": [
      "2.5\n",
      "2\n"
     ]
    }
   ],
   "source": [
    "# Integer division with / returns float. \n",
    "# Use // for floor division.\n",
    "print(5 / 2)  \n",
    "print(5 // 2) "
   ]
  },
  {
   "cell_type": "code",
   "execution_count": 10,
   "id": "2bcbeb48",
   "metadata": {},
   "outputs": [
    {
     "name": "stdout",
     "output_type": "stream",
     "text": [
      "3.14159 -0.01 2500.0\n"
     ]
    }
   ],
   "source": [
    "# Floating-point type\n",
    "x = 3.14159\n",
    "y = -0.01\n",
    "z = 2.5e3  # Equivalent to 2500.0\n",
    "print(x, y, z)"
   ]
  },
  {
   "cell_type": "code",
   "execution_count": 16,
   "id": "3249f826",
   "metadata": {},
   "outputs": [
    {
     "name": "stdout",
     "output_type": "stream",
     "text": [
      "0.30000000000000004\n"
     ]
    },
    {
     "ename": "TypeError",
     "evalue": "format() argument 2 must be str, not float",
     "output_type": "error",
     "traceback": [
      "\u001b[31m---------------------------------------------------------------------------\u001b[39m",
      "\u001b[31mTypeError\u001b[39m                                 Traceback (most recent call last)",
      "\u001b[36mCell\u001b[39m\u001b[36m \u001b[39m\u001b[32mIn[16]\u001b[39m\u001b[32m, line 4\u001b[39m\n\u001b[32m      2\u001b[39m \u001b[38;5;28mprint\u001b[39m(\u001b[32m0.1\u001b[39m + \u001b[32m0.2\u001b[39m)  \n\u001b[32m      3\u001b[39m x = \u001b[32m0.1\u001b[39m + \u001b[32m0.2\u001b[39m\n\u001b[32m----> \u001b[39m\u001b[32m4\u001b[39m \u001b[38;5;28mprint\u001b[39m(\u001b[38;5;28;43mformat\u001b[39;49m\u001b[43m(\u001b[49m\u001b[43m{\u001b[49m\u001b[32;43m0\u001b[39;49m\u001b[43m}\u001b[49m\u001b[43m,\u001b[49m\u001b[43mx\u001b[49m\u001b[43m)\u001b[49m)\n",
      "\u001b[31mTypeError\u001b[39m: format() argument 2 must be str, not float"
     ]
    }
   ],
   "source": [
    "# Precision Limitation\n",
    "print(0.1 + 0.2)  \n",
    "x = 0.1 + 0.2\n",
    "print(format({0},x))"
   ]
  },
  {
   "cell_type": "code",
   "execution_count": 2,
   "id": "e1387703",
   "metadata": {},
   "outputs": [
    {
     "name": "stdout",
     "output_type": "stream",
     "text": [
      "IIT Bombay CS101\n",
      "Welcome to\n",
      "Python programming.\n"
     ]
    }
   ],
   "source": [
    "# String type\n",
    "name = \"IIT Bombay\"\n",
    "code = 'CS101'\n",
    "print(name, code)\n",
    "\n",
    "#Multiline strings use triple quotes\n",
    "msg = \"\"\"Welcome to\n",
    "Python programming.\"\"\"\n",
    "print(msg)"
   ]
  },
  {
   "cell_type": "code",
   "execution_count": 4,
   "id": "d598ac08",
   "metadata": {},
   "outputs": [
    {
     "name": "stdout",
     "output_type": "stream",
     "text": [
      "Hello World\n",
      "HelloHelloHello\n",
      "5\n",
      "e\n"
     ]
    }
   ],
   "source": [
    "# String operations\n",
    "greeting = \"Hello\"\n",
    "print(greeting + \" World\")      # Concatenation\n",
    "print(greeting * 3)             # Repetition\n",
    "print(len(greeting))            # Length\n",
    "print(greeting[1])              # Indexing"
   ]
  },
  {
   "cell_type": "code",
   "execution_count": 2,
   "id": "c7c34547",
   "metadata": {},
   "outputs": [
    {
     "ename": "TypeError",
     "evalue": "'str' object does not support item assignment",
     "output_type": "error",
     "traceback": [
      "\u001b[31m---------------------------------------------------------------------------\u001b[39m",
      "\u001b[31mTypeError\u001b[39m                                 Traceback (most recent call last)",
      "\u001b[36mCell\u001b[39m\u001b[36m \u001b[39m\u001b[32mIn[2]\u001b[39m\u001b[32m, line 3\u001b[39m\n\u001b[32m      1\u001b[39m \u001b[38;5;66;03m# String is immutable\u001b[39;00m\n\u001b[32m      2\u001b[39m s = \u001b[33m\"\u001b[39m\u001b[33mdata\u001b[39m\u001b[33m\"\u001b[39m\n\u001b[32m----> \u001b[39m\u001b[32m3\u001b[39m \u001b[43ms\u001b[49m\u001b[43m[\u001b[49m\u001b[32;43m0\u001b[39;49m\u001b[43m]\u001b[49m = \u001b[33m'\u001b[39m\u001b[33mD\u001b[39m\u001b[33m'\u001b[39m   \u001b[38;5;66;03m#TypeError\u001b[39;00m\n",
      "\u001b[31mTypeError\u001b[39m: 'str' object does not support item assignment"
     ]
    }
   ],
   "source": [
    "# String is immutable\n",
    "s = \"data\"\n",
    "s[0] = 'D'   #TypeError"
   ]
  },
  {
   "cell_type": "code",
   "execution_count": 4,
   "id": "34ca655a",
   "metadata": {},
   "outputs": [
    {
     "name": "stdout",
     "output_type": "stream",
     "text": [
      "Dataataata\n"
     ]
    }
   ],
   "source": [
    "# To change create a new string\n",
    "s = \"Data\" + s[1:]\n",
    "print(s)"
   ]
  },
  {
   "cell_type": "code",
   "execution_count": 5,
   "id": "e7682984",
   "metadata": {},
   "outputs": [
    {
     "name": "stdout",
     "output_type": "stream",
     "text": [
      "True\n",
      "True\n"
     ]
    }
   ],
   "source": [
    "# Boolean type\n",
    "print(True == 1)   # True\n",
    "print(False == 0)  # True"
   ]
  },
  {
   "cell_type": "code",
   "execution_count": 6,
   "id": "f9c2f579",
   "metadata": {},
   "outputs": [
    {
     "name": "stdout",
     "output_type": "stream",
     "text": [
      "True\n",
      "False\n"
     ]
    }
   ],
   "source": [
    "# Check bool value\n",
    "a = 5 > 3       # True\n",
    "b = 10 == 20    # False\n",
    "\n",
    "print(a)\n",
    "print(b)"
   ]
  },
  {
   "cell_type": "markdown",
   "id": "911f0b71",
   "metadata": {},
   "source": [
    "**Type Casting**"
   ]
  },
  {
   "cell_type": "code",
   "execution_count": 8,
   "id": "0267b368",
   "metadata": {},
   "outputs": [
    {
     "name": "stdout",
     "output_type": "stream",
     "text": [
      "3\n",
      "42\n"
     ]
    },
    {
     "ename": "ValueError",
     "evalue": "invalid literal for int() with base 10: '42.5'",
     "output_type": "error",
     "traceback": [
      "\u001b[31m---------------------------------------------------------------------------\u001b[39m",
      "\u001b[31mValueError\u001b[39m                                Traceback (most recent call last)",
      "\u001b[36mCell\u001b[39m\u001b[36m \u001b[39m\u001b[32mIn[8]\u001b[39m\u001b[32m, line 8\u001b[39m\n\u001b[32m      6\u001b[39m \u001b[38;5;66;03m# From string\u001b[39;00m\n\u001b[32m      7\u001b[39m \u001b[38;5;28mprint\u001b[39m(\u001b[38;5;28mint\u001b[39m(\u001b[33m\"\u001b[39m\u001b[33m42\u001b[39m\u001b[33m\"\u001b[39m))        \u001b[38;5;66;03m# 42\u001b[39;00m\n\u001b[32m----> \u001b[39m\u001b[32m8\u001b[39m \u001b[38;5;28mprint\u001b[39m(\u001b[38;5;28;43mint\u001b[39;49m\u001b[43m(\u001b[49m\u001b[33;43m\"\u001b[39;49m\u001b[33;43m42.5\u001b[39;49m\u001b[33;43m\"\u001b[39;49m\u001b[43m)\u001b[49m)    \u001b[38;5;66;03m# ValueError (invalid literal)\u001b[39;00m\n\u001b[32m     10\u001b[39m \u001b[38;5;66;03m# From bool\u001b[39;00m\n\u001b[32m     11\u001b[39m \u001b[38;5;28mprint\u001b[39m(\u001b[38;5;28mint\u001b[39m(\u001b[38;5;28;01mTrue\u001b[39;00m))        \u001b[38;5;66;03m# 1\u001b[39;00m\n",
      "\u001b[31mValueError\u001b[39m: invalid literal for int() with base 10: '42.5'"
     ]
    }
   ],
   "source": [
    "# Converting to int\n",
    "\n",
    "# From float\n",
    "print(int(3.9))         # 3 (decimal part truncated)\n",
    "\n",
    "# From string\n",
    "print(int(\"42\"))        # 42\n",
    "print(int(\"42.5\"))    # ValueError (invalid literal)\n",
    "\n",
    "# From bool\n",
    "print(int(True))        # 1\n",
    "print(int(False))       # 0"
   ]
  },
  {
   "cell_type": "code",
   "execution_count": 9,
   "id": "033c862e",
   "metadata": {},
   "outputs": [
    {
     "name": "stdout",
     "output_type": "stream",
     "text": [
      "5.0\n",
      "3.14\n",
      "1.0\n",
      "0.0\n"
     ]
    }
   ],
   "source": [
    "# Converting to float\n",
    "\n",
    "# From int\n",
    "print(float(5))          # 5.0\n",
    "\n",
    "# From string\n",
    "print(float(\"3.14\"))     # 3.14\n",
    "\n",
    "# From bool\n",
    "print(float(True))       # 1.0\n",
    "print(float(False))      # 0.0"
   ]
  },
  {
   "cell_type": "code",
   "execution_count": 10,
   "id": "319bfc68",
   "metadata": {},
   "outputs": [
    {
     "name": "stdout",
     "output_type": "stream",
     "text": [
      "101\n",
      "3.1415\n",
      "True\n"
     ]
    }
   ],
   "source": [
    "# Converting to str\n",
    "\n",
    "# From int\n",
    "print(str(101))      # '101'\n",
    "\n",
    "# From float\n",
    "print(str(3.1415))   # '3.1415'\n",
    "\n",
    "# From bool\n",
    "print(str(True))     # 'True'"
   ]
  },
  {
   "cell_type": "code",
   "execution_count": 11,
   "id": "38ff7260",
   "metadata": {},
   "outputs": [
    {
     "name": "stdout",
     "output_type": "stream",
     "text": [
      "False\n",
      "True\n",
      "False\n",
      "True\n",
      "False\n",
      "True\n",
      "False\n",
      "True\n"
     ]
    }
   ],
   "source": [
    "# Converting to bool\n",
    "\n",
    "# From int\n",
    "print(bool(0))          # False\n",
    "print(bool(42))         # True\n",
    "\n",
    "# From float\n",
    "print(bool(0.0))        # False\n",
    "print(bool(-1.5))       # True\n",
    "\n",
    "# From string\n",
    "print(bool(\"\"))         # False (empty string)\n",
    "print(bool(\"IIT\"))      # True\n",
    "\n",
    "# From collections (advanced preview)\n",
    "print(bool([]))         # False\n",
    "print(bool([1, 2]))     # True"
   ]
  },
  {
   "cell_type": "code",
   "execution_count": 1,
   "id": "0f6be5bc",
   "metadata": {},
   "outputs": [
    {
     "name": "stdout",
     "output_type": "stream",
     "text": [
      "7.0\n",
      "<class 'float'>\n"
     ]
    }
   ],
   "source": [
    "# Implicit type casting\n",
    "\n",
    "a = 5        # int\n",
    "b = 2.0      # float\n",
    "\n",
    "result = a + b\n",
    "print(result)\n",
    "print(type(result))"
   ]
  },
  {
   "cell_type": "code",
   "execution_count": 2,
   "id": "dab839a9",
   "metadata": {},
   "outputs": [
    {
     "name": "stdout",
     "output_type": "stream",
     "text": [
      "105\n",
      "<class 'int'>\n"
     ]
    }
   ],
   "source": [
    "# Explicit type casting\n",
    "x = \"100\"\n",
    "y = int(x)   # Explicit cast from str to int\n",
    "\n",
    "print(y + 5)\n",
    "print(type(y))"
   ]
  },
  {
   "cell_type": "markdown",
   "id": "2404ba76",
   "metadata": {},
   "source": [
    "# 4 type() and isinstance() Functions in Python"
   ]
  },
  {
   "cell_type": "code",
   "execution_count": 3,
   "id": "d2a41422",
   "metadata": {},
   "outputs": [
    {
     "name": "stdout",
     "output_type": "stream",
     "text": [
      "<class 'int'>\n",
      "<class 'float'>\n",
      "<class 'str'>\n",
      "<class 'bool'>\n"
     ]
    }
   ],
   "source": [
    "# type() function\n",
    "\n",
    "a = 10\n",
    "b = 3.14\n",
    "c = \"IIT\"\n",
    "d = True\n",
    "\n",
    "print(type(a))   # <class 'int'>\n",
    "print(type(b))   # <class 'float'>\n",
    "print(type(c))   # <class 'str'>\n",
    "print(type(d))   # <class 'bool'>"
   ]
  },
  {
   "cell_type": "code",
   "execution_count": 4,
   "id": "a72631ee",
   "metadata": {},
   "outputs": [
    {
     "name": "stdout",
     "output_type": "stream",
     "text": [
      "True\n",
      "False\n",
      "True\n"
     ]
    }
   ],
   "source": [
    "# isinstance() function\n",
    "\n",
    "x = 5\n",
    "\n",
    "print(isinstance(x, int))        # True\n",
    "print(isinstance(x, float))      # False\n",
    "print(isinstance(x, (int, float)))  # True"
   ]
  },
  {
   "cell_type": "markdown",
   "id": "67f0d445",
   "metadata": {},
   "source": [
    "# input() and Sample I/O"
   ]
  },
  {
   "cell_type": "code",
   "execution_count": 1,
   "id": "9c416ec5",
   "metadata": {},
   "outputs": [
    {
     "name": "stdout",
     "output_type": "stream",
     "text": [
      "Welcome, Mr. India\n"
     ]
    }
   ],
   "source": [
    "# Example 1: Basic input\n",
    "name = input(\"Enter your name: \")\n",
    "print(\"Welcome,\", name)"
   ]
  },
  {
   "cell_type": "code",
   "execution_count": 2,
   "id": "84711773",
   "metadata": {},
   "outputs": [
    {
     "name": "stdout",
     "output_type": "stream",
     "text": [
      "Sum: 43.43\n"
     ]
    }
   ],
   "source": [
    "# Example 02: Calculator\n",
    "x = float(input(\"Enter number 1: \"))\n",
    "y = float(input(\"Enter number 2: \"))\n",
    "print(\"Sum:\", x + y)"
   ]
  },
  {
   "cell_type": "code",
   "execution_count": 4,
   "id": "1cec5ac3",
   "metadata": {},
   "outputs": [
    {
     "name": "stdout",
     "output_type": "stream",
     "text": [
      "IIT-Bombay!!!\n"
     ]
    }
   ],
   "source": [
    "# print() Function – Displaying Output\n",
    "# print() sends output to the standard output stream (usually your screen). \n",
    "# It supports multiple arguments, and optional formatting using sep and end.\n",
    "\n",
    "print(\"IIT\", \"Bombay\", sep=\"-\", end=\"!!!\\n\")"
   ]
  },
  {
   "cell_type": "code",
   "execution_count": 5,
   "id": "3611e0ab",
   "metadata": {},
   "outputs": [
    {
     "name": "stdout",
     "output_type": "stream",
     "text": [
      "Hello, Mrinal! Your score is 99.50\n"
     ]
    }
   ],
   "source": [
    "# f-string\n",
    "name = \"Mrinal\"\n",
    "score = 99.5\n",
    "print(f\"Hello, {name}! Your score is {score:.2f}\")"
   ]
  },
  {
   "cell_type": "code",
   "execution_count": 6,
   "id": "84d09a42",
   "metadata": {},
   "outputs": [
    {
     "name": "stdout",
     "output_type": "stream",
     "text": [
      "\n",
      "Student: Mr. India\n",
      "Roll No: 213\n",
      "Marks: 99.20\n"
     ]
    }
   ],
   "source": [
    "# Combining input() and print() in Interactive Programs\n",
    "\n",
    "name = input(\"Enter your name: \")\n",
    "roll = int(input(\"Enter your roll number: \"))\n",
    "marks = float(input(\"Enter your marks: \"))\n",
    "\n",
    "print(f\"\\nStudent: {name}\")\n",
    "print(f\"Roll No: {roll}\")\n",
    "print(f\"Marks: {marks:.2f}\")\n"
   ]
  },
  {
   "cell_type": "code",
   "execution_count": null,
   "id": "11e0c78a",
   "metadata": {},
   "outputs": [],
   "source": []
  }
 ],
 "metadata": {
  "kernelspec": {
   "display_name": "Python 3",
   "language": "python",
   "name": "python3"
  },
  "language_info": {
   "codemirror_mode": {
    "name": "ipython",
    "version": 3
   },
   "file_extension": ".py",
   "mimetype": "text/x-python",
   "name": "python",
   "nbconvert_exporter": "python",
   "pygments_lexer": "ipython3",
   "version": "3.12.1"
  }
 },
 "nbformat": 4,
 "nbformat_minor": 5
}
