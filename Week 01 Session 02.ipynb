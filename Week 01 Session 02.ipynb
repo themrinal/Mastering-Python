{
 "cells": [
  {
   "cell_type": "code",
   "execution_count": 1,
   "id": "6f78941e",
   "metadata": {},
   "outputs": [
    {
     "name": "stdout",
     "output_type": "stream",
     "text": [
      "Welcome to Week 01 Session 02\n"
     ]
    }
   ],
   "source": [
    "print(\"Welcome to Week 01 Session 02\")"
   ]
  },
  {
   "cell_type": "markdown",
   "id": "5867e125",
   "metadata": {},
   "source": [
    "# **Chapter 02: Type Casting & Built-in Functions**"
   ]
  },
  {
   "cell_type": "markdown",
   "id": "82702cd8",
   "metadata": {},
   "source": [
    "# 01. Type conversion: int(), float(), str(), list()"
   ]
  },
  {
   "cell_type": "code",
   "execution_count": null,
   "id": "96f499be",
   "metadata": {},
   "outputs": [],
   "source": []
  },
  {
   "cell_type": "markdown",
   "id": "80af2db6",
   "metadata": {},
   "source": [
    "**Type Casting**"
   ]
  },
  {
   "cell_type": "code",
   "execution_count": 4,
   "id": "6e1b8185",
   "metadata": {},
   "outputs": [
    {
     "name": "stdout",
     "output_type": "stream",
     "text": [
      "3\n",
      "42\n",
      "1\n",
      "0\n"
     ]
    }
   ],
   "source": [
    "# Converting to int\n",
    "\n",
    "# From float\n",
    "print(int(3.9))         # 3 (decimal part truncated)\n",
    "\n",
    "# From string\n",
    "print(int(\"42\"))        # 42\n",
    "#print(int(\"42.5\"))    # ValueError (invalid literal)\n",
    "\n",
    "# From bool\n",
    "print(int(True))        # 1\n",
    "print(int(False))       # 0"
   ]
  },
  {
   "cell_type": "code",
   "execution_count": 5,
   "id": "c1b22340",
   "metadata": {},
   "outputs": [
    {
     "name": "stdout",
     "output_type": "stream",
     "text": [
      "5.0\n",
      "3.14\n",
      "1.0\n",
      "0.0\n"
     ]
    }
   ],
   "source": [
    "# Converting to float\n",
    "\n",
    "# From int\n",
    "print(float(5))          # 5.0\n",
    "\n",
    "# From string\n",
    "print(float(\"3.14\"))     # 3.14\n",
    "\n",
    "# From bool\n",
    "print(float(True))       # 1.0\n",
    "print(float(False))      # 0.0"
   ]
  },
  {
   "cell_type": "code",
   "execution_count": 6,
   "id": "ec178b98",
   "metadata": {},
   "outputs": [
    {
     "name": "stdout",
     "output_type": "stream",
     "text": [
      "101\n",
      "3.1415\n",
      "True\n"
     ]
    }
   ],
   "source": [
    "# Converting to str\n",
    "\n",
    "# From int\n",
    "print(str(101))      # '101'\n",
    "\n",
    "# From float\n",
    "print(str(3.1415))   # '3.1415'\n",
    "\n",
    "# From bool\n",
    "print(str(True))     # 'True'"
   ]
  },
  {
   "cell_type": "code",
   "execution_count": 7,
   "id": "857b932a",
   "metadata": {},
   "outputs": [
    {
     "name": "stdout",
     "output_type": "stream",
     "text": [
      "False\n",
      "True\n",
      "False\n",
      "True\n",
      "False\n",
      "True\n",
      "False\n",
      "True\n"
     ]
    }
   ],
   "source": [
    "# Converting to bool\n",
    "\n",
    "# From int\n",
    "print(bool(0))          # False\n",
    "print(bool(42))         # True\n",
    "\n",
    "# From float\n",
    "print(bool(0.0))        # False\n",
    "print(bool(-1.5))       # True\n",
    "\n",
    "# From string\n",
    "print(bool(\"\"))         # False (empty string)\n",
    "print(bool(\"IIT\"))      # True\n",
    "\n",
    "# From collections (advanced preview)\n",
    "print(bool([]))         # False\n",
    "print(bool([1, 2]))     # True"
   ]
  },
  {
   "cell_type": "code",
   "execution_count": 8,
   "id": "4251c5d2",
   "metadata": {},
   "outputs": [
    {
     "name": "stdout",
     "output_type": "stream",
     "text": [
      "7.0\n",
      "<class 'float'>\n"
     ]
    }
   ],
   "source": [
    "# Implicit type casting\n",
    "\n",
    "a = 5        # int\n",
    "b = 2.0      # float\n",
    "\n",
    "result = a + b\n",
    "print(result)\n",
    "print(type(result))"
   ]
  },
  {
   "cell_type": "code",
   "execution_count": 9,
   "id": "21543c0f",
   "metadata": {},
   "outputs": [
    {
     "name": "stdout",
     "output_type": "stream",
     "text": [
      "105\n",
      "<class 'int'>\n"
     ]
    }
   ],
   "source": [
    "# Explicit type casting\n",
    "x = \"100\"\n",
    "y = int(x)   # Explicit cast from str to int\n",
    "\n",
    "print(y + 5)\n",
    "print(type(y))"
   ]
  },
  {
   "cell_type": "code",
   "execution_count": null,
   "id": "6d9dc45f",
   "metadata": {},
   "outputs": [],
   "source": []
  }
 ],
 "metadata": {
  "kernelspec": {
   "display_name": "Python 3 (ipykernel)",
   "language": "python",
   "name": "python3"
  },
  "language_info": {
   "codemirror_mode": {
    "name": "ipython",
    "version": 3
   },
   "file_extension": ".py",
   "mimetype": "text/x-python",
   "name": "python",
   "nbconvert_exporter": "python",
   "pygments_lexer": "ipython3",
   "version": "3.12.1"
  }
 },
 "nbformat": 4,
 "nbformat_minor": 5
}
