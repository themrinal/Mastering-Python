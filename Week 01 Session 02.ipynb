{
 "cells": [
  {
   "cell_type": "code",
   "execution_count": 1,
   "id": "6f78941e",
   "metadata": {},
   "outputs": [
    {
     "name": "stdout",
     "output_type": "stream",
     "text": [
      "Welcome to Week 01 Session 02\n"
     ]
    }
   ],
   "source": [
    "print(\"Welcome to Week 01 Session 02\")"
   ]
  },
  {
   "cell_type": "markdown",
   "id": "5867e125",
   "metadata": {},
   "source": [
    "# **Chapter 02: Type Casting & Built-in Functions**"
   ]
  },
  {
   "cell_type": "markdown",
   "id": "82702cd8",
   "metadata": {},
   "source": [
    "# 01. Type conversion: int(), float(), str(), list()"
   ]
  },
  {
   "cell_type": "code",
   "execution_count": null,
   "id": "96f499be",
   "metadata": {},
   "outputs": [],
   "source": []
  }
 ],
 "metadata": {
  "kernelspec": {
   "display_name": "Python 3 (ipykernel)",
   "language": "python",
   "name": "python3"
  },
  "language_info": {
   "codemirror_mode": {
    "name": "ipython",
    "version": 3
   },
   "file_extension": ".py",
   "mimetype": "text/x-python",
   "name": "python",
   "nbconvert_exporter": "python",
   "pygments_lexer": "ipython3",
   "version": "3.12.1"
  }
 },
 "nbformat": 4,
 "nbformat_minor": 5
}
