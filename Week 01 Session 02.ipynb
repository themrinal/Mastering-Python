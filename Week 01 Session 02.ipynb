{
 "cells": [
  {
   "cell_type": "code",
   "execution_count": 1,
   "id": "6f78941e",
   "metadata": {},
   "outputs": [
    {
     "name": "stdout",
     "output_type": "stream",
     "text": [
      "Welcome to Week 01 Session 02\n"
     ]
    }
   ],
   "source": [
    "print(\"Welcome to Week 01 Session 02\")"
   ]
  },
  {
   "cell_type": "markdown",
   "id": "5867e125",
   "metadata": {},
   "source": [
    "# **Chapter 02: Type Casting & Built-in Functions**"
   ]
  },
  {
   "cell_type": "markdown",
   "id": "82702cd8",
   "metadata": {},
   "source": [
    "# 01. Type conversion: int(), float(), str(), list()"
   ]
  },
  {
   "cell_type": "markdown",
   "id": "80af2db6",
   "metadata": {},
   "source": [
    "**Type Casting**"
   ]
  },
  {
   "cell_type": "code",
   "execution_count": 4,
   "id": "6e1b8185",
   "metadata": {},
   "outputs": [
    {
     "name": "stdout",
     "output_type": "stream",
     "text": [
      "3\n",
      "42\n",
      "1\n",
      "0\n"
     ]
    }
   ],
   "source": [
    "# Converting to int\n",
    "\n",
    "# From float\n",
    "print(int(3.9))         # 3 (decimal part truncated)\n",
    "\n",
    "# From string\n",
    "print(int(\"42\"))        # 42\n",
    "#print(int(\"42.5\"))    # ValueError (invalid literal)\n",
    "\n",
    "# From bool\n",
    "print(int(True))        # 1\n",
    "print(int(False))       # 0"
   ]
  },
  {
   "cell_type": "code",
   "execution_count": 5,
   "id": "c1b22340",
   "metadata": {},
   "outputs": [
    {
     "name": "stdout",
     "output_type": "stream",
     "text": [
      "5.0\n",
      "3.14\n",
      "1.0\n",
      "0.0\n"
     ]
    }
   ],
   "source": [
    "# Converting to float\n",
    "\n",
    "# From int\n",
    "print(float(5))          # 5.0\n",
    "\n",
    "# From string\n",
    "print(float(\"3.14\"))     # 3.14\n",
    "\n",
    "# From bool\n",
    "print(float(True))       # 1.0\n",
    "print(float(False))      # 0.0"
   ]
  },
  {
   "cell_type": "code",
   "execution_count": 6,
   "id": "ec178b98",
   "metadata": {},
   "outputs": [
    {
     "name": "stdout",
     "output_type": "stream",
     "text": [
      "101\n",
      "3.1415\n",
      "True\n"
     ]
    }
   ],
   "source": [
    "# Converting to str\n",
    "\n",
    "# From int\n",
    "print(str(101))      # '101'\n",
    "\n",
    "# From float\n",
    "print(str(3.1415))   # '3.1415'\n",
    "\n",
    "# From bool\n",
    "print(str(True))     # 'True'"
   ]
  },
  {
   "cell_type": "code",
   "execution_count": 7,
   "id": "857b932a",
   "metadata": {},
   "outputs": [
    {
     "name": "stdout",
     "output_type": "stream",
     "text": [
      "False\n",
      "True\n",
      "False\n",
      "True\n",
      "False\n",
      "True\n",
      "False\n",
      "True\n"
     ]
    }
   ],
   "source": [
    "# Converting to bool\n",
    "\n",
    "# From int\n",
    "print(bool(0))          # False\n",
    "print(bool(42))         # True\n",
    "\n",
    "# From float\n",
    "print(bool(0.0))        # False\n",
    "print(bool(-1.5))       # True\n",
    "\n",
    "# From string\n",
    "print(bool(\"\"))         # False (empty string)\n",
    "print(bool(\"IIT\"))      # True\n",
    "\n",
    "# From collections (advanced preview)\n",
    "print(bool([]))         # False\n",
    "print(bool([1, 2]))     # True"
   ]
  },
  {
   "cell_type": "code",
   "execution_count": 11,
   "id": "d51c6815",
   "metadata": {},
   "outputs": [
    {
     "name": "stdout",
     "output_type": "stream",
     "text": [
      "['h', 'e', 'l', 'l', 'o']\n",
      "[1, 2, 3]\n",
      "[10, 20, 30]\n",
      "[0, 1, 2, 3, 4]\n"
     ]
    }
   ],
   "source": [
    "# Converting to list\n",
    "\n",
    "# String to list\n",
    "text = \"hello\"\n",
    "result = list(text)\n",
    "print(result)  # ['h', 'e', 'l', 'l', 'o']\n",
    "\n",
    "# Tuple to list\n",
    "t = (1, 2, 3)\n",
    "result = list(t)\n",
    "print(result)  # [1, 2, 3]\n",
    "\n",
    "# Set to list\n",
    "s = {10, 20, 30}\n",
    "result = list(s)\n",
    "print(result)  # [10, 20, 30] (order may vary)\n",
    "\n",
    "# Range to list\n",
    "r = range(5)\n",
    "result = list(r)\n",
    "print(result)  # [0, 1, 2, 3, 4]"
   ]
  },
  {
   "cell_type": "markdown",
   "id": "f892b147",
   "metadata": {},
   "source": [
    "# 02. Implicit vs Explicit"
   ]
  },
  {
   "cell_type": "code",
   "execution_count": 8,
   "id": "4251c5d2",
   "metadata": {},
   "outputs": [
    {
     "name": "stdout",
     "output_type": "stream",
     "text": [
      "7.0\n",
      "<class 'float'>\n"
     ]
    }
   ],
   "source": [
    "# Implicit type casting\n",
    "\n",
    "a = 5        # int\n",
    "b = 2.0      # float\n",
    "\n",
    "result = a + b\n",
    "print(result)\n",
    "print(type(result))"
   ]
  },
  {
   "cell_type": "code",
   "execution_count": null,
   "id": "21543c0f",
   "metadata": {},
   "outputs": [
    {
     "name": "stdout",
     "output_type": "stream",
     "text": [
      "105\n",
      "<class 'int'>\n"
     ]
    }
   ],
   "source": [
    "# Explicit type casting\n",
    "\n",
    "x = \"100\"\n",
    "y = int(x)   # Explicit cast from str to int\n",
    "\n",
    "print(y + 5)\n",
    "print(type(y))"
   ]
  },
  {
   "cell_type": "markdown",
   "id": "12b4c0ed",
   "metadata": {},
   "source": [
    "# 03. Common built-in functions"
   ]
  },
  {
   "cell_type": "code",
   "execution_count": 7,
   "id": "6e0674cb",
   "metadata": {},
   "outputs": [
    {
     "name": "stdout",
     "output_type": "stream",
     "text": [
      "6\n",
      "5\n"
     ]
    }
   ],
   "source": [
    "# len()\n",
    "a = (len(\"Python\"))         # 6\n",
    "b = (len(str(12345)))       # 5 → after converting int to str\n",
    "print(a)\n",
    "print(b)"
   ]
  },
  {
   "cell_type": "code",
   "execution_count": 1,
   "id": "f35e1fa2",
   "metadata": {},
   "outputs": [
    {
     "name": "stdout",
     "output_type": "stream",
     "text": [
      "c\n",
      "8\n"
     ]
    }
   ],
   "source": [
    "# max()\n",
    "a = max(\"abc123\")        # 'c'\n",
    "b = max(str(2183))       # '8' → characters compared as strings\n",
    "print(a)\n",
    "print(b)"
   ]
  },
  {
   "cell_type": "code",
   "execution_count": 3,
   "id": "d1b38838",
   "metadata": {},
   "outputs": [
    {
     "name": "stdout",
     "output_type": "stream",
     "text": [
      "1\n",
      "0\n"
     ]
    }
   ],
   "source": [
    "# min()\n",
    "a = min(\"a1b2\")        # '1' → lowest Unicode\n",
    "b = min(str(340))      # '0' → among '3', '4', '0'\n",
    "print(a)\n",
    "print(b)"
   ]
  },
  {
   "cell_type": "code",
   "execution_count": 4,
   "id": "c8733e28",
   "metadata": {},
   "outputs": [
    {
     "name": "stdout",
     "output_type": "stream",
     "text": [
      "60\n",
      "7.0\n",
      "10\n",
      "16\n"
     ]
    }
   ],
   "source": [
    "# sum()\n",
    "a = sum([10, 20, 30])          # 60\n",
    "b = sum((1.5, 2.5, 3))         # 7.0\n",
    "c = sum(range(1, 5))           # 1+2+3+4 = 10\n",
    "d = sum([1, 2, 3], 10)         # 10 + 1 + 2 + 3 = 16 → uses 'start' value\n",
    "print(a)\n",
    "print(b)\n",
    "print(c)\n",
    "print(d)"
   ]
  },
  {
   "cell_type": "code",
   "execution_count": 3,
   "id": "97d29ae1",
   "metadata": {},
   "outputs": [
    {
     "name": "stdout",
     "output_type": "stream",
     "text": [
      "[1, 2, 3, 4]\n",
      "['apple', 'banana']\n",
      "['c', 'd', 'e', 'o']\n",
      "[9, 5, 2]\n"
     ]
    }
   ],
   "source": [
    "# sorted()\n",
    "a = sorted([3, 1, 4, 2])            \n",
    "b = sorted([\"banana\", \"apple\"])    \n",
    "c = sorted(\"code\")                 \n",
    "d = sorted([5, 2, 9], reverse=True)\n",
    "print(a)\n",
    "print(b)\n",
    "print(c)\n",
    "print(d)"
   ]
  },
  {
   "cell_type": "code",
   "execution_count": 5,
   "id": "5768d0a0",
   "metadata": {},
   "outputs": [
    {
     "name": "stdout",
     "output_type": "stream",
     "text": [
      "4\n",
      "7\n",
      "5.68\n"
     ]
    }
   ],
   "source": [
    "# round()\n",
    "a = round(3.75)         # 4\n",
    "b = round(float(\"7.3\")) # 7 → after type casting str to float\n",
    "c = round(5.6789, 2)    # 5.68\n",
    "print(a)\n",
    "print(b)\n",
    "print(c)"
   ]
  },
  {
   "cell_type": "code",
   "execution_count": 6,
   "id": "9e76e4f3",
   "metadata": {},
   "outputs": [
    {
     "name": "stdout",
     "output_type": "stream",
     "text": [
      "10\n",
      "5.3\n",
      "1\n"
     ]
    }
   ],
   "source": [
    "# abs()\n",
    "a = abs(-10)             # 10\n",
    "b = abs(float(\"-5.3\"))   # 5.3 → after casting str to float\n",
    "c = abs(bool(-1))        # 1 → bool(-1) is True → abs(True) = 1\n",
    "print(a)\n",
    "print(b)\n",
    "print(c)"
   ]
  },
  {
   "cell_type": "markdown",
   "id": "979c095b",
   "metadata": {},
   "source": [
    "# 04. print() formatting: f-strings, .format()"
   ]
  },
  {
   "cell_type": "code",
   "execution_count": null,
   "id": "0697a891",
   "metadata": {},
   "outputs": [],
   "source": []
  }
 ],
 "metadata": {
  "kernelspec": {
   "display_name": "Python 3 (ipykernel)",
   "language": "python",
   "name": "python3"
  },
  "language_info": {
   "codemirror_mode": {
    "name": "ipython",
    "version": 3
   },
   "file_extension": ".py",
   "mimetype": "text/x-python",
   "name": "python",
   "nbconvert_exporter": "python",
   "pygments_lexer": "ipython3",
   "version": "3.12.1"
  }
 },
 "nbformat": 4,
 "nbformat_minor": 5
}
