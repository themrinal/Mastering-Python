{
 "cells": [
  {
   "cell_type": "code",
   "execution_count": 1,
   "id": "6d84f14e",
   "metadata": {},
   "outputs": [
    {
     "name": "stdout",
     "output_type": "stream",
     "text": [
      "Welcome to Week 01 Session 03\n"
     ]
    }
   ],
   "source": [
    "print(\"Welcome to Week 01 Session 03\")"
   ]
  },
  {
   "cell_type": "markdown",
   "id": "0eda112f",
   "metadata": {},
   "source": [
    "# **Chapter 03: Control Structures – If & Loops**"
   ]
  },
  {
   "cell_type": "markdown",
   "id": "8be2960b",
   "metadata": {},
   "source": [
    "# 01. if, elif, else statements"
   ]
  },
  {
   "cell_type": "code",
   "execution_count": 2,
   "id": "106ab469",
   "metadata": {},
   "outputs": [
    {
     "name": "stdout",
     "output_type": "stream",
     "text": [
      "Welcome\n",
      "You are eligible\n",
      "Thank you\n"
     ]
    }
   ],
   "source": [
    "# Without control structures\n",
    "print(\"Welcome\")\n",
    "print(\"You are eligible\")\n",
    "print(\"Thank you\")"
   ]
  },
  {
   "cell_type": "code",
   "execution_count": 4,
   "id": "a4629f4f",
   "metadata": {},
   "outputs": [
    {
     "name": "stdout",
     "output_type": "stream",
     "text": [
      "You are eligible to vote.\n"
     ]
    }
   ],
   "source": [
    "# With control structures\n",
    "# It changes based on input, thanks to control structures.\n",
    "age = int(input(\"Enter your age: \"))\n",
    "\n",
    "if age >= 18:\n",
    "    print(\"You are eligible to vote.\")\n",
    "else:\n",
    "    print(\"You are not eligible.\")"
   ]
  },
  {
   "cell_type": "code",
   "execution_count": null,
   "id": "1a3e8222",
   "metadata": {},
   "outputs": [],
   "source": []
  }
 ],
 "metadata": {
  "kernelspec": {
   "display_name": "Python 3 (ipykernel)",
   "language": "python",
   "name": "python3"
  },
  "language_info": {
   "codemirror_mode": {
    "name": "ipython",
    "version": 3
   },
   "file_extension": ".py",
   "mimetype": "text/x-python",
   "name": "python",
   "nbconvert_exporter": "python",
   "pygments_lexer": "ipython3",
   "version": "3.12.1"
  }
 },
 "nbformat": 4,
 "nbformat_minor": 5
}
