{
 "cells": [
  {
   "cell_type": "code",
   "execution_count": 1,
   "id": "6d84f14e",
   "metadata": {},
   "outputs": [
    {
     "name": "stdout",
     "output_type": "stream",
     "text": [
      "Welcome to Week 01 Session 03\n"
     ]
    }
   ],
   "source": [
    "print(\"Welcome to Week 01 Session 03\")"
   ]
  },
  {
   "cell_type": "markdown",
   "id": "0eda112f",
   "metadata": {},
   "source": [
    "# **Chapter 03: Control Structures – If & Loops**"
   ]
  },
  {
   "cell_type": "markdown",
   "id": "8be2960b",
   "metadata": {},
   "source": [
    "# 01. if, elif, else statements"
   ]
  },
  {
   "cell_type": "code",
   "execution_count": 2,
   "id": "106ab469",
   "metadata": {},
   "outputs": [
    {
     "name": "stdout",
     "output_type": "stream",
     "text": [
      "Welcome\n",
      "You are eligible\n",
      "Thank you\n"
     ]
    }
   ],
   "source": [
    "# Without control structures\n",
    "print(\"Welcome\")\n",
    "print(\"You are eligible\")\n",
    "print(\"Thank you\")"
   ]
  },
  {
   "cell_type": "code",
   "execution_count": 4,
   "id": "a4629f4f",
   "metadata": {},
   "outputs": [
    {
     "name": "stdout",
     "output_type": "stream",
     "text": [
      "You are eligible to vote.\n"
     ]
    }
   ],
   "source": [
    "# With control structures\n",
    "# It changes based on input, thanks to control structures.\n",
    "age = int(input(\"Enter your age: \"))\n",
    "\n",
    "if age >= 18:\n",
    "    print(\"You are eligible to vote.\")\n",
    "else:\n",
    "    print(\"You are not eligible.\")"
   ]
  },
  {
   "cell_type": "code",
   "execution_count": 1,
   "id": "1a3e8222",
   "metadata": {},
   "outputs": [
    {
     "name": "stdout",
     "output_type": "stream",
     "text": [
      "Grade: B\n"
     ]
    }
   ],
   "source": [
    "# Example: if-elif-else\n",
    "marks = 75\n",
    "\n",
    "if marks >= 90:\n",
    "    print(\"Grade: A\")\n",
    "elif marks >= 75:\n",
    "    print(\"Grade: B\")\n",
    "elif marks >= 60:\n",
    "    print(\"Grade: C\")\n",
    "else:\n",
    "    print(\"Grade: D\")"
   ]
  },
  {
   "cell_type": "code",
   "execution_count": 4,
   "id": "af226110",
   "metadata": {},
   "outputs": [
    {
     "name": "stdout",
     "output_type": "stream",
     "text": [
      "It's warm\n"
     ]
    }
   ],
   "source": [
    "# Example: Overlapping ranges (with a mistake!)\n",
    "temperature = 30\n",
    "\n",
    "# Logical error: the order of conditions affects the result!\n",
    "if temperature > 20:\n",
    "    print(\"It's warm\")\n",
    "elif temperature > 25:\n",
    "    print(\"It's hot\")\n",
    "else:\n",
    "    print(\"It's cold\")"
   ]
  },
  {
   "cell_type": "code",
   "execution_count": 6,
   "id": "b28020a3",
   "metadata": {},
   "outputs": [
    {
     "name": "stdout",
     "output_type": "stream",
     "text": [
      "It's hot\n"
     ]
    }
   ],
   "source": [
    "#Fix: Check higher conditions first\n",
    "temperature = 30\n",
    "\n",
    "if temperature > 25:\n",
    "    print(\"It's hot\")\n",
    "elif temperature > 20:\n",
    "    print(\"It's warm\")\n",
    "else:\n",
    "    print(\"It's cold\")"
   ]
  },
  {
   "cell_type": "code",
   "execution_count": 1,
   "id": "e6e0356b",
   "metadata": {},
   "outputs": [
    {
     "name": "stdout",
     "output_type": "stream",
     "text": [
      "Grade: C\n"
     ]
    }
   ],
   "source": [
    "# Understanding the Grading System\n",
    "\n",
    "marks = 75\n",
    "\n",
    "if marks >= 90:\n",
    "    print(\"Grade: A\")\n",
    "elif marks >= 80:\n",
    "    print(\"Grade: B\")\n",
    "elif marks >= 70:\n",
    "    print(\"Grade: C\")  # ✅ This one matches\n",
    "elif marks >= 60:\n",
    "    print(\"Grade: D\")\n",
    "else:\n",
    "    print(\"Grade: F\")"
   ]
  },
  {
   "cell_type": "markdown",
   "id": "201f2246",
   "metadata": {},
   "source": [
    "# 02. Nested Condition`"
   ]
  },
  {
   "cell_type": "code",
   "execution_count": 2,
   "id": "e441a57d",
   "metadata": {},
   "outputs": [
    {
     "name": "stdout",
     "output_type": "stream",
     "text": [
      "It's hot and humid.\n"
     ]
    }
   ],
   "source": [
    "#  Find weather condition based on temperature & humidity\n",
    "temperature = 30\n",
    "humidity = 70\n",
    "\n",
    "if temperature > 25:\n",
    "    if humidity > 60:\n",
    "        print(\"It's hot and humid.\")  # Both conditions met\n",
    "    else:\n",
    "        print(\"It's hot but dry.\")\n",
    "else:\n",
    "    print(\"The temperature is moderate.\")"
   ]
  },
  {
   "cell_type": "code",
   "execution_count": 6,
   "id": "e48d2dc1",
   "metadata": {},
   "outputs": [
    {
     "name": "stdout",
     "output_type": "stream",
     "text": [
      "Wrong password!\n"
     ]
    }
   ],
   "source": [
    "# Login Simulation\n",
    "username = \"admin\"\n",
    "password = \"123204\"\n",
    "\n",
    "if username == \"admin\":\n",
    "    if password == \"1234\":\n",
    "        print(\"Access granted!\")\n",
    "    else:\n",
    "        print(\"Wrong password!\")  # Password mismatch\n",
    "else:\n",
    "    print(\"Username not found!\")  # Username doesn't exist"
   ]
  },
  {
   "cell_type": "code",
   "execution_count": 1,
   "id": "89b5785d",
   "metadata": {},
   "outputs": [
    {
     "name": "stdout",
     "output_type": "stream",
     "text": [
      "Recommended: Electric hatchback.\n"
     ]
    }
   ],
   "source": [
    "# Vehicle recommendation system\n",
    "\n",
    "budget = 2  # 1 = Low, 2 = Medium, 3 = High\n",
    "fuel_type = \"Electric\"  # Options: Petrol, Diesel, Electric\n",
    "\n",
    "if budget == 1:\n",
    "    print(\"Recommended: Used hatchback (Petrol).\")\n",
    "    \n",
    "elif budget == 2:\n",
    "    # Nested decision based on fuel preference\n",
    "    if fuel_type == \"Petrol\":\n",
    "        print(\"Recommended: Mid-range sedan (Petrol).\")\n",
    "    elif fuel_type == \"Diesel\":\n",
    "        print(\"Recommended: Mid-range SUV (Diesel).\")\n",
    "    else:\n",
    "        print(\"Recommended: Electric hatchback.\")\n",
    "        \n",
    "elif budget == 3:\n",
    "    print(\"Recommended: Premium electric SUV or sedan.\")\n",
    "    \n",
    "else:\n",
    "    print(\"Invalid budget input. Please enter 1, 2, or 3.\")"
   ]
  },
  {
   "cell_type": "markdown",
   "id": "4abce5b4",
   "metadata": {},
   "source": [
    "# 03. for loops with range()"
   ]
  },
  {
   "cell_type": "code",
   "execution_count": 2,
   "id": "c0ad2590",
   "metadata": {},
   "outputs": [
    {
     "name": "stdout",
     "output_type": "stream",
     "text": [
      "0\n",
      "1\n",
      "2\n",
      "3\n",
      "4\n",
      "5\n"
     ]
    }
   ],
   "source": [
    "# Print 0 to 5\n",
    "\n",
    "for i in range(6):\n",
    "    print(i)"
   ]
  },
  {
   "cell_type": "code",
   "execution_count": 3,
   "id": "cca8b17e",
   "metadata": {},
   "outputs": [
    {
     "name": "stdout",
     "output_type": "stream",
     "text": [
      "5\n",
      "6\n",
      "7\n",
      "8\n",
      "9\n",
      "10\n"
     ]
    }
   ],
   "source": [
    "# Print between 5 and 10\n",
    "\n",
    "for i in range(5, 11):\n",
    "    print(i)"
   ]
  },
  {
   "cell_type": "code",
   "execution_count": 4,
   "id": "e2be9218",
   "metadata": {},
   "outputs": [
    {
     "name": "stdout",
     "output_type": "stream",
     "text": [
      "10\n",
      "8\n",
      "6\n",
      "4\n",
      "2\n"
     ]
    }
   ],
   "source": [
    "# Print even numbers between 1 and 11 in descending order\n",
    "\n",
    "for i in range(10, 0, -2):\n",
    "    print(i)"
   ]
  },
  {
   "cell_type": "markdown",
   "id": "2e9db359",
   "metadata": {},
   "source": [
    "# 04.while loops and loop control: break, continue, pass"
   ]
  },
  {
   "cell_type": "code",
   "execution_count": 5,
   "id": "883bfe95",
   "metadata": {},
   "outputs": [
    {
     "name": "stdout",
     "output_type": "stream",
     "text": [
      "1\n",
      "2\n",
      "3\n",
      "4\n",
      "5\n"
     ]
    }
   ],
   "source": [
    "# Print numbers from 1 to 5\n",
    "count = 1\n",
    "while count <= 5:\n",
    "    print(count)\n",
    "    count += 1"
   ]
  },
  {
   "cell_type": "code",
   "execution_count": 6,
   "id": "c67dbc4f",
   "metadata": {},
   "outputs": [
    {
     "name": "stdout",
     "output_type": "stream",
     "text": [
      "Access granted.\n"
     ]
    }
   ],
   "source": [
    "# Ask user until correct password is entered\n",
    "\n",
    "password = \"\"\n",
    "while password != \"python123\":\n",
    "    password = input(\"Enter password: \")\n",
    "print(\"Access granted.\")"
   ]
  },
  {
   "cell_type": "code",
   "execution_count": null,
   "id": "b2cba158",
   "metadata": {},
   "outputs": [],
   "source": [
    "# Loop that never stops unless manually broken\n",
    "while True:\n",
    "    print(\"Running endlessly...\")"
   ]
  },
  {
   "cell_type": "code",
   "execution_count": 1,
   "id": "0a55991d",
   "metadata": {},
   "outputs": [
    {
     "name": "stdout",
     "output_type": "stream",
     "text": [
      "1\n",
      "2\n",
      "3\n",
      "4\n"
     ]
    }
   ],
   "source": [
    "# break - stop at a condition\n",
    "i = 1\n",
    "while i <= 10:\n",
    "    if i == 5:\n",
    "        break\n",
    "    print(i)\n",
    "    i += 1"
   ]
  },
  {
   "cell_type": "code",
   "execution_count": 2,
   "id": "ee0fdd43",
   "metadata": {},
   "outputs": [
    {
     "name": "stdout",
     "output_type": "stream",
     "text": [
      "Even number found: 8\n"
     ]
    }
   ],
   "source": [
    "# Search Until Found\n",
    "nums = [1, 3, 5, 8, 9]\n",
    "index = 0\n",
    "\n",
    "while index < len(nums):\n",
    "    if nums[index] % 2 == 0:\n",
    "        print(\"Even number found:\", nums[index])\n",
    "        break\n",
    "    index += 1"
   ]
  },
  {
   "cell_type": "code",
   "execution_count": 5,
   "id": "f3772fdc",
   "metadata": {},
   "outputs": [
    {
     "name": "stdout",
     "output_type": "stream",
     "text": [
      "i=1, j=0\n",
      "i=2, j=0\n",
      "i=2, j=1\n"
     ]
    }
   ],
   "source": [
    "# break inside nested while\n",
    "i = 0\n",
    "while i < 3:\n",
    "    j = 0\n",
    "    while j < 3:\n",
    "        if i == j:\n",
    "            break\n",
    "        print(f\"i={i}, j={j}\")\n",
    "        j += 1\n",
    "    i += 1\n"
   ]
  },
  {
   "cell_type": "code",
   "execution_count": null,
   "id": "712d1133",
   "metadata": {},
   "outputs": [
    {
     "name": "stdout",
     "output_type": "stream",
     "text": [
      "2\n",
      "4\n",
      "6\n",
      "8\n",
      "10\n"
     ]
    }
   ],
   "source": [
    "# Skip Odd Numbers\n",
    "i = 0\n",
    "while i < 10:\n",
    "    i += 1\n",
    "    if i % 2 != 0:\n",
    "\n",
    "        continue\n",
    "    print(i)"
   ]
  },
  {
   "cell_type": "code",
   "execution_count": 3,
   "id": "dfc96e17",
   "metadata": {},
   "outputs": [
    {
     "name": "stdout",
     "output_type": "stream",
     "text": [
      "Hello Mr. India\n"
     ]
    }
   ],
   "source": [
    "# Manual exit\n",
    "\n",
    "while True:\n",
    "    name = input(\"Enter name (type 'exit' to stop): \")\n",
    "    if name == \"exit\":\n",
    "        break\n",
    "    if name == \"\":\n",
    "        continue  # skip empty inputs\n",
    "    print(\"Hello\", name)"
   ]
  },
  {
   "cell_type": "code",
   "execution_count": 6,
   "id": "248f2393",
   "metadata": {},
   "outputs": [
    {
     "name": "stdout",
     "output_type": "stream",
     "text": [
      "Negative\n"
     ]
    }
   ],
   "source": [
    "# Pass - to avoid syntax errors \n",
    "x = -5\n",
    "if x > 0:\n",
    "    pass  # Placeholder\n",
    "else:\n",
    "    print(\"Negative\")"
   ]
  },
  {
   "cell_type": "code",
   "execution_count": null,
   "id": "09ae685d",
   "metadata": {},
   "outputs": [],
   "source": [
    "# Pass - during code planning\n",
    "while True:\n",
    "    # TODO: implement login later\n",
    "    pass"
   ]
  },
  {
   "cell_type": "markdown",
   "id": "6a3f371f",
   "metadata": {},
   "source": [
    "# 05. else Clause with Loop"
   ]
  },
  {
   "cell_type": "code",
   "execution_count": 1,
   "id": "e1fba883",
   "metadata": {},
   "outputs": [
    {
     "name": "stdout",
     "output_type": "stream",
     "text": [
      "Not found!\n"
     ]
    }
   ],
   "source": [
    "# for loop with else (Search & Not Found)\n",
    "# Search for a number in the list\n",
    "nums = [2, 4, 6, 8]\n",
    "target = 5\n",
    "\n",
    "for num in nums:\n",
    "    if num == target:\n",
    "        print(\"Found!\")\n",
    "        break\n",
    "else:\n",
    "    print(\"Not found!\")  # Runs because loop didn't break"
   ]
  },
  {
   "cell_type": "code",
   "execution_count": 2,
   "id": "7017a970",
   "metadata": {},
   "outputs": [
    {
     "name": "stdout",
     "output_type": "stream",
     "text": [
      "Count: 1\n",
      "Count: 2\n",
      "Count: 3\n",
      "Counting done!\n"
     ]
    }
   ],
   "source": [
    "# while loop with else (Count Until Condition fails\n",
    "i = 1\n",
    "while i <= 3:\n",
    "    print(\"Count:\", i)\n",
    "    i += 1\n",
    "else:\n",
    "    print(\"Counting done!\")  # Runs after while condition becomes False"
   ]
  },
  {
   "cell_type": "code",
   "execution_count": 3,
   "id": "9e984c7a",
   "metadata": {},
   "outputs": [
    {
     "name": "stdout",
     "output_type": "stream",
     "text": [
      "0\n",
      "1\n",
      "2\n"
     ]
    }
   ],
   "source": [
    "# Skipped else Due to break\n",
    "i = 0\n",
    "while i < 5:\n",
    "    if i == 3:\n",
    "        break\n",
    "    print(i)\n",
    "    i += 1\n",
    "else:\n",
    "    print(\"Loop ended naturally\")\n"
   ]
  },
  {
   "cell_type": "code",
   "execution_count": null,
   "id": "64a47244",
   "metadata": {},
   "outputs": [],
   "source": []
  }
 ],
 "metadata": {
  "kernelspec": {
   "display_name": "Python 3 (ipykernel)",
   "language": "python",
   "name": "python3"
  },
  "language_info": {
   "codemirror_mode": {
    "name": "ipython",
    "version": 3
   },
   "file_extension": ".py",
   "mimetype": "text/x-python",
   "name": "python",
   "nbconvert_exporter": "python",
   "pygments_lexer": "ipython3",
   "version": "3.12.1"
  }
 },
 "nbformat": 4,
 "nbformat_minor": 5
}
